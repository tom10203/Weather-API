{
 "cells": [
  {
   "cell_type": "code",
   "execution_count": 1,
   "id": "b598d5b1",
   "metadata": {},
   "outputs": [],
   "source": [
    "import requests"
   ]
  },
  {
   "cell_type": "code",
   "execution_count": 2,
   "id": "00d81bfd",
   "metadata": {},
   "outputs": [],
   "source": [
    "def kelvin_to_c(temp):\n",
    "    return temp - 273.15"
   ]
  },
  {
   "cell_type": "code",
   "execution_count": null,
   "id": "9272b672",
   "metadata": {},
   "outputs": [
    {
     "name": "stdout",
     "output_type": "stream",
     "text": [
      "london\n",
      "The weather in london is broken clouds. The min temperature is 5.42 and the max temp is 9.21\n"
     ]
    }
   ],
   "source": [
    "api = '67ba493fb1d893c613d96e9f77a3d116'\n",
    "city_name = input()\n",
    "\n",
    "while True:\n",
    "    url = f\"http://api.openweathermap.org/data/2.5/weather?q={city_name}&appid={api}\"\n",
    "    response = requests.get(url)\n",
    "    json = response.json()\n",
    "    \n",
    "    if city_name.lower() == 'no':\n",
    "        break\n",
    "    elif json['cod'] == '404':\n",
    "        print(json['message'], 'Please enter another city')\n",
    "        city_name = input(\"Please enter name of another city. Type 'No' to opt out: \")\n",
    "        continue\n",
    "    else:\n",
    "        description = json['weather'][0]['description']\n",
    "        temp_min = kelvin_to_c(json['main']['temp_min'])\n",
    "        temp_max =kelvin_to_c(json['main']['temp_max'])\n",
    "        print(f\"The weather in {city_name} is {description}. The min temperature is {round(temp_min, 2)} and the max temp is {round(temp_max, 2)}\")\n",
    "        city_name = input(\"Please enter name of another city. Type 'No' to opt out: \")\n",
    "   \n"
   ]
  },
  {
   "cell_type": "code",
   "execution_count": null,
   "id": "dc0bd3f1",
   "metadata": {},
   "outputs": [],
   "source": [
    "\n",
    "\n"
   ]
  },
  {
   "cell_type": "code",
   "execution_count": null,
   "id": "bd53ffde",
   "metadata": {},
   "outputs": [],
   "source": []
  }
 ],
 "metadata": {
  "kernelspec": {
   "display_name": "Python 3 (ipykernel)",
   "language": "python",
   "name": "python3"
  },
  "language_info": {
   "codemirror_mode": {
    "name": "ipython",
    "version": 3
   },
   "file_extension": ".py",
   "mimetype": "text/x-python",
   "name": "python",
   "nbconvert_exporter": "python",
   "pygments_lexer": "ipython3",
   "version": "3.9.7"
  }
 },
 "nbformat": 4,
 "nbformat_minor": 5
}
